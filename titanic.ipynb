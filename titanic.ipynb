{
 "cells": [
  {
   "cell_type": "markdown",
   "source": [
    "# Titanic - Machine Learning from Disaster\n",
    "### Using machine learning to create a model that predicts which passengers survived the Titanic shipwreck"
   ],
   "metadata": {}
  },
  {
   "cell_type": "code",
   "execution_count": 1,
   "source": [
    "import numpy as np\n",
    "import pandas as pd\n",
    "import matplotlib.pyplot as plt\n",
    "import seaborn as sns\n",
    "\n",
    "%matplotlib inline"
   ],
   "outputs": [],
   "metadata": {}
  },
  {
   "cell_type": "markdown",
   "source": [
    "## Loading and analyzing data"
   ],
   "metadata": {}
  },
  {
   "cell_type": "code",
   "execution_count": 2,
   "source": [
    "df = pd.read_csv('data/titanic/train.csv')\n",
    "\n",
    "df.info()\n",
    "df.head()"
   ],
   "outputs": [
    {
     "output_type": "stream",
     "name": "stdout",
     "text": [
      "<class 'pandas.core.frame.DataFrame'>\n",
      "RangeIndex: 891 entries, 0 to 890\n",
      "Data columns (total 12 columns):\n",
      " #   Column       Non-Null Count  Dtype  \n",
      "---  ------       --------------  -----  \n",
      " 0   PassengerId  891 non-null    int64  \n",
      " 1   Survived     891 non-null    int64  \n",
      " 2   Pclass       891 non-null    int64  \n",
      " 3   Name         891 non-null    object \n",
      " 4   Sex          891 non-null    object \n",
      " 5   Age          714 non-null    float64\n",
      " 6   SibSp        891 non-null    int64  \n",
      " 7   Parch        891 non-null    int64  \n",
      " 8   Ticket       891 non-null    object \n",
      " 9   Fare         891 non-null    float64\n",
      " 10  Cabin        204 non-null    object \n",
      " 11  Embarked     889 non-null    object \n",
      "dtypes: float64(2), int64(5), object(5)\n",
      "memory usage: 83.7+ KB\n"
     ]
    },
    {
     "output_type": "execute_result",
     "data": {
      "text/html": [
       "<div>\n",
       "<style scoped>\n",
       "    .dataframe tbody tr th:only-of-type {\n",
       "        vertical-align: middle;\n",
       "    }\n",
       "\n",
       "    .dataframe tbody tr th {\n",
       "        vertical-align: top;\n",
       "    }\n",
       "\n",
       "    .dataframe thead th {\n",
       "        text-align: right;\n",
       "    }\n",
       "</style>\n",
       "<table border=\"1\" class=\"dataframe\">\n",
       "  <thead>\n",
       "    <tr style=\"text-align: right;\">\n",
       "      <th></th>\n",
       "      <th>PassengerId</th>\n",
       "      <th>Survived</th>\n",
       "      <th>Pclass</th>\n",
       "      <th>Name</th>\n",
       "      <th>Sex</th>\n",
       "      <th>Age</th>\n",
       "      <th>SibSp</th>\n",
       "      <th>Parch</th>\n",
       "      <th>Ticket</th>\n",
       "      <th>Fare</th>\n",
       "      <th>Cabin</th>\n",
       "      <th>Embarked</th>\n",
       "    </tr>\n",
       "  </thead>\n",
       "  <tbody>\n",
       "    <tr>\n",
       "      <th>0</th>\n",
       "      <td>1</td>\n",
       "      <td>0</td>\n",
       "      <td>3</td>\n",
       "      <td>Braund, Mr. Owen Harris</td>\n",
       "      <td>male</td>\n",
       "      <td>22.0</td>\n",
       "      <td>1</td>\n",
       "      <td>0</td>\n",
       "      <td>A/5 21171</td>\n",
       "      <td>7.2500</td>\n",
       "      <td>NaN</td>\n",
       "      <td>S</td>\n",
       "    </tr>\n",
       "    <tr>\n",
       "      <th>1</th>\n",
       "      <td>2</td>\n",
       "      <td>1</td>\n",
       "      <td>1</td>\n",
       "      <td>Cumings, Mrs. John Bradley (Florence Briggs Th...</td>\n",
       "      <td>female</td>\n",
       "      <td>38.0</td>\n",
       "      <td>1</td>\n",
       "      <td>0</td>\n",
       "      <td>PC 17599</td>\n",
       "      <td>71.2833</td>\n",
       "      <td>C85</td>\n",
       "      <td>C</td>\n",
       "    </tr>\n",
       "    <tr>\n",
       "      <th>2</th>\n",
       "      <td>3</td>\n",
       "      <td>1</td>\n",
       "      <td>3</td>\n",
       "      <td>Heikkinen, Miss. Laina</td>\n",
       "      <td>female</td>\n",
       "      <td>26.0</td>\n",
       "      <td>0</td>\n",
       "      <td>0</td>\n",
       "      <td>STON/O2. 3101282</td>\n",
       "      <td>7.9250</td>\n",
       "      <td>NaN</td>\n",
       "      <td>S</td>\n",
       "    </tr>\n",
       "    <tr>\n",
       "      <th>3</th>\n",
       "      <td>4</td>\n",
       "      <td>1</td>\n",
       "      <td>1</td>\n",
       "      <td>Futrelle, Mrs. Jacques Heath (Lily May Peel)</td>\n",
       "      <td>female</td>\n",
       "      <td>35.0</td>\n",
       "      <td>1</td>\n",
       "      <td>0</td>\n",
       "      <td>113803</td>\n",
       "      <td>53.1000</td>\n",
       "      <td>C123</td>\n",
       "      <td>S</td>\n",
       "    </tr>\n",
       "    <tr>\n",
       "      <th>4</th>\n",
       "      <td>5</td>\n",
       "      <td>0</td>\n",
       "      <td>3</td>\n",
       "      <td>Allen, Mr. William Henry</td>\n",
       "      <td>male</td>\n",
       "      <td>35.0</td>\n",
       "      <td>0</td>\n",
       "      <td>0</td>\n",
       "      <td>373450</td>\n",
       "      <td>8.0500</td>\n",
       "      <td>NaN</td>\n",
       "      <td>S</td>\n",
       "    </tr>\n",
       "  </tbody>\n",
       "</table>\n",
       "</div>"
      ],
      "text/plain": [
       "   PassengerId  Survived  Pclass  \\\n",
       "0            1         0       3   \n",
       "1            2         1       1   \n",
       "2            3         1       3   \n",
       "3            4         1       1   \n",
       "4            5         0       3   \n",
       "\n",
       "                                                Name     Sex   Age  SibSp  \\\n",
       "0                            Braund, Mr. Owen Harris    male  22.0      1   \n",
       "1  Cumings, Mrs. John Bradley (Florence Briggs Th...  female  38.0      1   \n",
       "2                             Heikkinen, Miss. Laina  female  26.0      0   \n",
       "3       Futrelle, Mrs. Jacques Heath (Lily May Peel)  female  35.0      1   \n",
       "4                           Allen, Mr. William Henry    male  35.0      0   \n",
       "\n",
       "   Parch            Ticket     Fare Cabin Embarked  \n",
       "0      0         A/5 21171   7.2500   NaN        S  \n",
       "1      0          PC 17599  71.2833   C85        C  \n",
       "2      0  STON/O2. 3101282   7.9250   NaN        S  \n",
       "3      0            113803  53.1000  C123        S  \n",
       "4      0            373450   8.0500   NaN        S  "
      ]
     },
     "metadata": {},
     "execution_count": 2
    }
   ],
   "metadata": {}
  },
  {
   "cell_type": "markdown",
   "source": [
    "### Important notes\n",
    "- The cabin is a very useful attribute, however there are many ​​missing values. Therefore, we will remove it along with other attributes that do not add useful information, such as: Name, Ticket, Fare and Embarked.\n",
    "- There are some missing values for Age attribute, but as this is a relevant information, we will replace the missing values by the average."
   ],
   "metadata": {}
  },
  {
   "cell_type": "markdown",
   "source": [
    "## Preparing data"
   ],
   "metadata": {}
  },
  {
   "cell_type": "code",
   "execution_count": 3,
   "source": [
    "df.drop(['Cabin','Name', 'Ticket', 'Embarked'], axis=1, inplace=True)\n",
    "\n",
    "df.replace('male', 0, inplace=True)\n",
    "df.replace('female', 1, inplace=True)\n",
    "\n",
    "age_average = df['Age'].median()\n",
    "\n",
    "df['Age'].fillna(age_average, inplace=True)\n",
    "\n",
    "df.info()\n",
    "df.head()"
   ],
   "outputs": [
    {
     "output_type": "stream",
     "name": "stdout",
     "text": [
      "<class 'pandas.core.frame.DataFrame'>\n",
      "RangeIndex: 891 entries, 0 to 890\n",
      "Data columns (total 8 columns):\n",
      " #   Column       Non-Null Count  Dtype  \n",
      "---  ------       --------------  -----  \n",
      " 0   PassengerId  891 non-null    int64  \n",
      " 1   Survived     891 non-null    int64  \n",
      " 2   Pclass       891 non-null    int64  \n",
      " 3   Sex          891 non-null    int64  \n",
      " 4   Age          891 non-null    float64\n",
      " 5   SibSp        891 non-null    int64  \n",
      " 6   Parch        891 non-null    int64  \n",
      " 7   Fare         891 non-null    float64\n",
      "dtypes: float64(2), int64(6)\n",
      "memory usage: 55.8 KB\n"
     ]
    },
    {
     "output_type": "execute_result",
     "data": {
      "text/html": [
       "<div>\n",
       "<style scoped>\n",
       "    .dataframe tbody tr th:only-of-type {\n",
       "        vertical-align: middle;\n",
       "    }\n",
       "\n",
       "    .dataframe tbody tr th {\n",
       "        vertical-align: top;\n",
       "    }\n",
       "\n",
       "    .dataframe thead th {\n",
       "        text-align: right;\n",
       "    }\n",
       "</style>\n",
       "<table border=\"1\" class=\"dataframe\">\n",
       "  <thead>\n",
       "    <tr style=\"text-align: right;\">\n",
       "      <th></th>\n",
       "      <th>PassengerId</th>\n",
       "      <th>Survived</th>\n",
       "      <th>Pclass</th>\n",
       "      <th>Sex</th>\n",
       "      <th>Age</th>\n",
       "      <th>SibSp</th>\n",
       "      <th>Parch</th>\n",
       "      <th>Fare</th>\n",
       "    </tr>\n",
       "  </thead>\n",
       "  <tbody>\n",
       "    <tr>\n",
       "      <th>0</th>\n",
       "      <td>1</td>\n",
       "      <td>0</td>\n",
       "      <td>3</td>\n",
       "      <td>0</td>\n",
       "      <td>22.0</td>\n",
       "      <td>1</td>\n",
       "      <td>0</td>\n",
       "      <td>7.2500</td>\n",
       "    </tr>\n",
       "    <tr>\n",
       "      <th>1</th>\n",
       "      <td>2</td>\n",
       "      <td>1</td>\n",
       "      <td>1</td>\n",
       "      <td>1</td>\n",
       "      <td>38.0</td>\n",
       "      <td>1</td>\n",
       "      <td>0</td>\n",
       "      <td>71.2833</td>\n",
       "    </tr>\n",
       "    <tr>\n",
       "      <th>2</th>\n",
       "      <td>3</td>\n",
       "      <td>1</td>\n",
       "      <td>3</td>\n",
       "      <td>1</td>\n",
       "      <td>26.0</td>\n",
       "      <td>0</td>\n",
       "      <td>0</td>\n",
       "      <td>7.9250</td>\n",
       "    </tr>\n",
       "    <tr>\n",
       "      <th>3</th>\n",
       "      <td>4</td>\n",
       "      <td>1</td>\n",
       "      <td>1</td>\n",
       "      <td>1</td>\n",
       "      <td>35.0</td>\n",
       "      <td>1</td>\n",
       "      <td>0</td>\n",
       "      <td>53.1000</td>\n",
       "    </tr>\n",
       "    <tr>\n",
       "      <th>4</th>\n",
       "      <td>5</td>\n",
       "      <td>0</td>\n",
       "      <td>3</td>\n",
       "      <td>0</td>\n",
       "      <td>35.0</td>\n",
       "      <td>0</td>\n",
       "      <td>0</td>\n",
       "      <td>8.0500</td>\n",
       "    </tr>\n",
       "  </tbody>\n",
       "</table>\n",
       "</div>"
      ],
      "text/plain": [
       "   PassengerId  Survived  Pclass  Sex   Age  SibSp  Parch     Fare\n",
       "0            1         0       3    0  22.0      1      0   7.2500\n",
       "1            2         1       1    1  38.0      1      0  71.2833\n",
       "2            3         1       3    1  26.0      0      0   7.9250\n",
       "3            4         1       1    1  35.0      1      0  53.1000\n",
       "4            5         0       3    0  35.0      0      0   8.0500"
      ]
     },
     "metadata": {},
     "execution_count": 3
    }
   ],
   "metadata": {}
  },
  {
   "cell_type": "markdown",
   "source": [
    "## Exploring data"
   ],
   "metadata": {}
  },
  {
   "cell_type": "code",
   "execution_count": 4,
   "source": [
    "plt.figure(figsize=(25, 8))\n",
    "\n",
    "plt.subplot(245)\n",
    "sns.histplot(x='Age', data=df, hue='Survived', element='poly')\n",
    "plt.subplot(244)\n",
    "df.groupby('Survived')['Pclass'].value_counts()[0].plot.pie(autopct='%1.0f%%',)\n",
    "plt.xlabel('Non-survivors')\n",
    "plt.subplot(243)\n",
    "df.groupby('Survived')['Pclass'].value_counts()[1].plot.pie(autopct='%1.0f%%',)\n",
    "plt.xlabel('Survivors')\n",
    "plt.subplot(242)\n",
    "df.groupby('Survived')['Sex'].value_counts()[0].plot.pie(autopct='%1.0f%%', )\n",
    "plt.xlabel('Non-survivors')\n",
    "plt.subplot(241)\n",
    "df.groupby('Survived')['Sex'].value_counts()[1].plot.pie(autopct='%1.0f%%', )\n",
    "plt.xlabel('Survivors')\n",
    "\n",
    "plt.show()\n",
    "\n",
    "df.groupby('Survived').describe()"
   ],
   "outputs": [
    {
     "output_type": "display_data",
     "data": {
      "image/png": "[encoded data removed]",
      "text/plain": [
       "<Figure size 1800x576 with 5 Axes>"
      ]
     },
     "metadata": {
      "needs_background": "light"
     }
    },
    {
     "output_type": "execute_result",
     "data": {
      "text/html": [
       "<div>\n",
       "<style scoped>\n",
       "    .dataframe tbody tr th:only-of-type {\n",
       "        vertical-align: middle;\n",
       "    }\n",
       "\n",
       "    .dataframe tbody tr th {\n",
       "        vertical-align: top;\n",
       "    }\n",
       "\n",
       "    .dataframe thead tr th {\n",
       "        text-align: left;\n",
       "    }\n",
       "\n",
       "    .dataframe thead tr:last-of-type th {\n",
       "        text-align: right;\n",
       "    }\n",
       "</style>\n",
       "<table border=\"1\" class=\"dataframe\">\n",
       "  <thead>\n",
       "    <tr>\n",
       "      <th></th>\n",
       "      <th colspan=\"8\" halign=\"left\">PassengerId</th>\n",
       "      <th colspan=\"2\" halign=\"left\">Pclass</th>\n",
       "      <th>...</th>\n",
       "      <th colspan=\"2\" halign=\"left\">Parch</th>\n",
       "      <th colspan=\"8\" halign=\"left\">Fare</th>\n",
       "    </tr>\n",
       "    <tr>\n",
       "      <th></th>\n",
       "      <th>count</th>\n",
       "      <th>mean</th>\n",
       "      <th>std</th>\n",
       "      <th>min</th>\n",
       "      <th>25%</th>\n",
       "      <th>50%</th>\n",
       "      <th>75%</th>\n",
       "      <th>max</th>\n",
       "      <th>count</th>\n",
       "      <th>mean</th>\n",
       "      <th>...</th>\n",
       "      <th>75%</th>\n",
       "      <th>max</th>\n",
       "      <th>count</th>\n",
       "      <th>mean</th>\n",
       "      <th>std</th>\n",
       "      <th>min</th>\n",
       "      <th>25%</th>\n",
       "      <th>50%</th>\n",
       "      <th>75%</th>\n",
       "      <th>max</th>\n",
       "    </tr>\n",
       "    <tr>\n",
       "      <th>Survived</th>\n",
       "      <th></th>\n",
       "      <th></th>\n",
       "      <th></th>\n",
       "      <th></th>\n",
       "      <th></th>\n",
       "      <th></th>\n",
       "      <th></th>\n",
       "      <th></th>\n",
       "      <th></th>\n",
       "      <th></th>\n",
       "      <th></th>\n",
       "      <th></th>\n",
       "      <th></th>\n",
       "      <th></th>\n",
       "      <th></th>\n",
       "      <th></th>\n",
       "      <th></th>\n",
       "      <th></th>\n",
       "      <th></th>\n",
       "      <th></th>\n",
       "      <th></th>\n",
       "    </tr>\n",
       "  </thead>\n",
       "  <tbody>\n",
       "    <tr>\n",
       "      <th>0</th>\n",
       "      <td>549.0</td>\n",
       "      <td>447.016393</td>\n",
       "      <td>260.640469</td>\n",
       "      <td>1.0</td>\n",
       "      <td>211.00</td>\n",
       "      <td>455.0</td>\n",
       "      <td>675.0</td>\n",
       "      <td>891.0</td>\n",
       "      <td>549.0</td>\n",
       "      <td>2.531876</td>\n",
       "      <td>...</td>\n",
       "      <td>0.0</td>\n",
       "      <td>6.0</td>\n",
       "      <td>549.0</td>\n",
       "      <td>22.117887</td>\n",
       "      <td>31.388207</td>\n",
       "      <td>0.0</td>\n",
       "      <td>7.8542</td>\n",
       "      <td>10.5</td>\n",
       "      <td>26.0</td>\n",
       "      <td>263.0000</td>\n",
       "    </tr>\n",
       "    <tr>\n",
       "      <th>1</th>\n",
       "      <td>342.0</td>\n",
       "      <td>444.368421</td>\n",
       "      <td>252.358840</td>\n",
       "      <td>2.0</td>\n",
       "      <td>250.75</td>\n",
       "      <td>439.5</td>\n",
       "      <td>651.5</td>\n",
       "      <td>890.0</td>\n",
       "      <td>342.0</td>\n",
       "      <td>1.950292</td>\n",
       "      <td>...</td>\n",
       "      <td>1.0</td>\n",
       "      <td>5.0</td>\n",
       "      <td>342.0</td>\n",
       "      <td>48.395408</td>\n",
       "      <td>66.596998</td>\n",
       "      <td>0.0</td>\n",
       "      <td>12.4750</td>\n",
       "      <td>26.0</td>\n",
       "      <td>57.0</td>\n",
       "      <td>512.3292</td>\n",
       "    </tr>\n",
       "  </tbody>\n",
       "</table>\n",
       "<p>2 rows × 56 columns</p>\n",
       "</div>"
      ],
      "text/plain": [
       "         PassengerId                                                     \\\n",
       "               count        mean         std  min     25%    50%    75%   \n",
       "Survived                                                                  \n",
       "0              549.0  447.016393  260.640469  1.0  211.00  455.0  675.0   \n",
       "1              342.0  444.368421  252.358840  2.0  250.75  439.5  651.5   \n",
       "\n",
       "                Pclass            ... Parch        Fare                        \\\n",
       "            max  count      mean  ...   75%  max  count       mean        std   \n",
       "Survived                          ...                                           \n",
       "0         891.0  549.0  2.531876  ...   0.0  6.0  549.0  22.117887  31.388207   \n",
       "1         890.0  342.0  1.950292  ...   1.0  5.0  342.0  48.395408  66.596998   \n",
       "\n",
       "                                              \n",
       "          min      25%   50%   75%       max  \n",
       "Survived                                      \n",
       "0         0.0   7.8542  10.5  26.0  263.0000  \n",
       "1         0.0  12.4750  26.0  57.0  512.3292  \n",
       "\n",
       "[2 rows x 56 columns]"
      ]
     },
     "metadata": {},
     "execution_count": 4
    }
   ],
   "metadata": {}
  },
  {
   "cell_type": "markdown",
   "source": [
    "## Pre-processing data\n",
    "- Normalization"
   ],
   "metadata": {}
  },
  {
   "cell_type": "code",
   "execution_count": 5,
   "source": [
    "from sklearn.preprocessing import StandardScaler\n",
    "\n",
    "X_df = df.drop(['PassengerId', 'Survived',], axis=1)\n",
    "X = X_df.to_numpy()\n",
    "y = df['Survived'].to_numpy()\n",
    "\n",
    "ss = StandardScaler()\n",
    "\n",
    "ss.fit(X)\n",
    "\n",
    "X_norm = ss.transform(X)"
   ],
   "outputs": [],
   "metadata": {}
  },
  {
   "cell_type": "markdown",
   "source": [
    "- PCA"
   ],
   "metadata": {}
  },
  {
   "cell_type": "code",
   "execution_count": 6,
   "source": [
    "from sklearn.decomposition import PCA\n",
    "\n",
    "pca = PCA(n_components=2)\n",
    "\n",
    "pca.fit(X_norm)\n",
    "\n",
    "X_pca = pca.transform(X_norm)\n",
    "\n",
    "X_pca_df = pd.DataFrame(X_pca, columns=['PC 0', 'PC 1'])\n",
    "\n",
    "fig, ax = plt.subplots(figsize=(8,4), nrows=1, ncols=2)\n",
    "for idx, pc in enumerate(pca.components_):\n",
    "    ax[idx].scatter(np.arange(len(X_df.columns)), pc)\n",
    "    ax[idx].set_xticks(np.arange(len(X_df.columns)))\n",
    "    ax[idx].set_xticklabels(X_df.columns, rotation=90)\n",
    "    ax[idx].set_title('PC %d' % (idx))\n",
    "plt.show()\n",
    "\n",
    "sns.scatterplot(data=X_pca_df, x='PC 0', y='PC 1', hue=y, palette='Set1')"
   ],
   "outputs": [
    {
     "output_type": "display_data",
     "data": {
      "image/png": "[encoded data removed]",
      "text/plain": [
       "<Figure size 576x288 with 2 Axes>"
      ]
     },
     "metadata": {
      "needs_background": "light"
     }
    },
    {
     "output_type": "execute_result",
     "data": {
      "text/plain": [
       "<AxesSubplot:xlabel='PC 0', ylabel='PC 1'>"
      ]
     },
     "metadata": {},
     "execution_count": 6
    },
    {
     "output_type": "display_data",
     "data": {
      "image/png": "[encoded data removed]",
      "text/plain": [
       "<Figure size 432x288 with 1 Axes>"
      ]
     },
     "metadata": {
      "needs_background": "light"
     }
    }
   ],
   "metadata": {}
  },
  {
   "cell_type": "code",
   "execution_count": 7,
   "source": [
    "results = {\n",
    "    \"knn\": {\n",
    "        \"kfold\": {\n",
    "            \"scores\": [],\n",
    "            \"predicts\": []\n",
    "        },\n",
    "        \"hyperparameter\": {\n",
    "            \"scores\": [],\n",
    "            \"predicts\": []\n",
    "        }\n",
    "    },\n",
    "    \"svm\": {\n",
    "        \"kfold\": {\n",
    "            \"scores\": [],\n",
    "            \"predicts\": []\n",
    "        },\n",
    "        \"hyperparameter\": {\n",
    "            \"scores\": [],\n",
    "            \"predicts\": []\n",
    "        }\n",
    "    }\n",
    "}\n",
    "\n",
    "def show_scores_stats(scores_list):\n",
    "    print(\"Accuracies scores statistics: min: %.2f, max: %.2f, avg +- std: %.2f+-%.2f\" % (min(scores_list), max(scores_list), np.mean(scores_list), np.std(scores_list)))"
   ],
   "outputs": [],
   "metadata": {}
  },
  {
   "cell_type": "markdown",
   "source": [
    "## Knn"
   ],
   "metadata": {}
  },
  {
   "cell_type": "code",
   "execution_count": 8,
   "source": [
    "from sklearn.neighbors import KNeighborsClassifier\n",
    "from sklearn.model_selection import train_test_split\n",
    "from sklearn.metrics import accuracy_score\n",
    "\n",
    "X_train, X_test, y_train, y_test = train_test_split(X_pca, y, test_size=0.2, stratify=y, random_state=1)\n",
    "\n",
    "knn = KNeighborsClassifier(n_neighbors=1)\n",
    "knn.fit(X_train,y_train)\n",
    "pred = knn.predict(X_test)\n",
    "print(f\"N-neighbors = 1 with 20% for testing - Acuracy: {accuracy_score(y_test,pred)}%\")\n"
   ],
   "outputs": [
    {
     "output_type": "stream",
     "name": "stdout",
     "text": [
      "N-neighbors = 1 with 20% for testing - Acuracy: 0.7262569832402235%\n"
     ]
    }
   ],
   "metadata": {}
  },
  {
   "cell_type": "markdown",
   "source": [
    "- K-fold cross-validation"
   ],
   "metadata": {}
  },
  {
   "cell_type": "code",
   "execution_count": 9,
   "source": [
    "from utils import do_cv_knn\n",
    "\n",
    "ks = range(1,30,2)\n",
    "k_vias = 10\n",
    "knn_kfold_cv_scores, knn_kfold_cv_predicts = do_cv_knn(X_pca, y, k_vias, ks)\n",
    "results['knn']['kfold']['scores'], results['knn']['kfold']['predicts'] = knn_kfold_cv_scores, knn_kfold_cv_predicts\n",
    "\n",
    "show_scores_stats(knn_kfold_cv_scores)\n",
    "print(\"Best K in validation: %d (acc=%.2f)\" % (ks[np.argmax(knn_kfold_cv_scores)], max(knn_kfold_cv_scores)))\n",
    "knn_kfold_cv_scores"
   ],
   "outputs": [
    {
     "output_type": "display_data",
     "data": {
      "application/vnd.jupyter.widget-view+json": {
       "version_major": 2,
       "version_minor": 0,
       "model_id": "97c017776b9e4520a0a1d5d347e4cf27"
      },
      "text/plain": [
       "Folds avaliados:   0%|          | 0/10 [00:00<?, ?it/s]"
      ]
     },
     "metadata": {}
    },
    {
     "output_type": "stream",
     "name": "stdout",
     "text": [
      "Accuracies scores statistics: min: 0.66, max: 0.84, avg +- std: 0.74+-0.05\n",
      "Best K in validation: 7 (acc=0.84)\n"
     ]
    },
    {
     "output_type": "execute_result",
     "data": {
      "text/plain": [
       "[0.6555555555555556,\n",
       " 0.7191011235955056,\n",
       " 0.7191011235955056,\n",
       " 0.8426966292134831,\n",
       " 0.7415730337078652,\n",
       " 0.7640449438202247,\n",
       " 0.7415730337078652,\n",
       " 0.797752808988764,\n",
       " 0.7078651685393258,\n",
       " 0.6629213483146067]"
      ]
     },
     "metadata": {},
     "execution_count": 9
    }
   ],
   "metadata": {}
  },
  {
   "cell_type": "markdown",
   "source": [
    "- Hyperparameter optimization by cross validation"
   ],
   "metadata": {}
  },
  {
   "cell_type": "code",
   "execution_count": 10,
   "source": [
    "from utils import do_hp_cv_knn\n",
    "\n",
    "k1, k2 = 10, 10\n",
    "knn_hp_cv_scores, knn_hp_cv_predicts = do_hp_cv_knn(X_pca, y, 10, ks)\n",
    "results['knn']['hyperparameter']['scores'], results['knn']['hyperparameter']['predicts'] = knn_hp_cv_scores, knn_hp_cv_predicts\n",
    "\n",
    "show_scores_stats(knn_hp_cv_scores)\n",
    "print(\"Best K in validation: %d (acc=%.2f)\" % (ks[np.argmax(knn_hp_cv_scores)], max(knn_hp_cv_scores)))\n",
    "knn_hp_cv_scores"
   ],
   "outputs": [
    {
     "output_type": "display_data",
     "data": {
      "application/vnd.jupyter.widget-view+json": {
       "version_major": 2,
       "version_minor": 0,
       "model_id": "8b0beebbaefb4fa18f660befc45f3b22"
      },
      "text/plain": [
       "Folds avaliados:   0%|          | 0/10 [00:00<?, ?it/s]"
      ]
     },
     "metadata": {}
    },
    {
     "output_type": "stream",
     "name": "stdout",
     "text": [
      "Accuracies scores statistics: min: 0.68, max: 0.88, avg +- std: 0.74+-0.06\n",
      "Best K in validation: 7 (acc=0.88)\n"
     ]
    },
    {
     "output_type": "execute_result",
     "data": {
      "text/plain": [
       "[0.6777777777777778,\n",
       " 0.7415730337078652,\n",
       " 0.6966292134831461,\n",
       " 0.8764044943820225,\n",
       " 0.6853932584269663,\n",
       " 0.7752808988764045,\n",
       " 0.7078651685393258,\n",
       " 0.797752808988764,\n",
       " 0.7640449438202247,\n",
       " 0.7078651685393258]"
      ]
     },
     "metadata": {},
     "execution_count": 10
    }
   ],
   "metadata": {}
  },
  {
   "cell_type": "markdown",
   "source": [
    "## SVM\n",
    "\n",
    "- K-fold cross-validation"
   ],
   "metadata": {}
  },
  {
   "cell_type": "code",
   "execution_count": 11,
   "source": [
    "from utils import do_cv_svm\n",
    "\n",
    "k_vias = 10\n",
    "svm_kfold_cv_scores, svm_kfold_cv_predicts = do_cv_svm(X_pca, y, k_vias, Cs=[1, 10, 100, 1000], gammas=['scale', 'auto', 2e-2, 2e-3, 2e-4])\n",
    "results['svm']['kfold']['scores'], results['svm']['kfold']['predicts'] = svm_kfold_cv_scores, svm_kfold_cv_predicts\n",
    "\n",
    "show_scores_stats(svm_kfold_cv_scores)\n",
    "svm_kfold_cv_scores"
   ],
   "outputs": [
    {
     "output_type": "display_data",
     "data": {
      "application/vnd.jupyter.widget-view+json": {
       "version_major": 2,
       "version_minor": 0,
       "model_id": "9da338e1f71746c4a57de678677a5578"
      },
      "text/plain": [
       "Folds avaliados:   0%|          | 0/10 [00:00<?, ?it/s]"
      ]
     },
     "metadata": {}
    },
    {
     "output_type": "stream",
     "name": "stdout",
     "text": [
      "Accuracies scores statistics: min: 0.64, max: 0.80, avg +- std: 0.73+-0.05\n"
     ]
    },
    {
     "output_type": "execute_result",
     "data": {
      "text/plain": [
       "[0.6555555555555556,\n",
       " 0.7528089887640449,\n",
       " 0.6853932584269663,\n",
       " 0.797752808988764,\n",
       " 0.7191011235955056,\n",
       " 0.7752808988764045,\n",
       " 0.7303370786516854,\n",
       " 0.7640449438202247,\n",
       " 0.797752808988764,\n",
       " 0.6404494382022472]"
      ]
     },
     "metadata": {},
     "execution_count": 11
    }
   ],
   "metadata": {}
  },
  {
   "cell_type": "markdown",
   "source": [
    "- Hyperparameter optimization by cross validation"
   ],
   "metadata": {}
  },
  {
   "cell_type": "code",
   "execution_count": 12,
   "source": [
    "from utils import do_hp_cv_svm\n",
    "\n",
    "k1, k2 = 10, 10\n",
    "svm_hp_cv_scores, svm_hp_cv_predicts = do_hp_cv_svm(X_pca, y, 10, Cs=[1, 10, 100, 1000], gammas=['scale', 'auto', 2e-2, 2e-3, 2e-4])\n",
    "results['svm']['hyperparameter']['scores'], results['svm']['hyperparameter']['predicts'] = svm_hp_cv_scores, svm_hp_cv_predicts\n",
    "\n",
    "show_scores_stats(svm_hp_cv_scores)\n",
    "svm_hp_cv_scores"
   ],
   "outputs": [
    {
     "output_type": "display_data",
     "data": {
      "application/vnd.jupyter.widget-view+json": {
       "version_major": 2,
       "version_minor": 0,
       "model_id": "c76d4a13033d42e1a5131f58bcd25c3f"
      },
      "text/plain": [
       "Folds avaliados:   0%|          | 0/10 [00:00<?, ?it/s]"
      ]
     },
     "metadata": {}
    },
    {
     "output_type": "stream",
     "name": "stdout",
     "text": [
      "Accuracies scores statistics: min: 0.64, max: 0.79, avg +- std: 0.74+-0.05\n"
     ]
    },
    {
     "output_type": "execute_result",
     "data": {
      "text/plain": [
       "[0.6444444444444445,\n",
       " 0.7528089887640449,\n",
       " 0.6741573033707865,\n",
       " 0.7865168539325843,\n",
       " 0.7528089887640449,\n",
       " 0.7865168539325843,\n",
       " 0.7078651685393258,\n",
       " 0.7640449438202247,\n",
       " 0.7415730337078652,\n",
       " 0.7865168539325843]"
      ]
     },
     "metadata": {},
     "execution_count": 12
    }
   ],
   "metadata": {}
  },
  {
   "cell_type": "markdown",
   "source": [
    "## Analyzing the results"
   ],
   "metadata": {}
  },
  {
   "cell_type": "code",
   "execution_count": 13,
   "source": [
    "from sklearn.metrics import classification_report\n",
    "\n",
    "best_classifier = ''\n",
    "best_cv = ''\n",
    "best_accuracy_score = 0\n",
    "best_predict = []\n",
    "\n",
    "for classifier_key, classifier_value in results.items():\n",
    "    for cv_key, cv_value in classifier_value.items():\n",
    "        max_score = max(cv_value['scores'])\n",
    "        if  max_score >= best_accuracy_score:\n",
    "            best_accuracy_score = max_score\n",
    "            best_predict = cv_value['predicts'][cv_value['scores'].index(max_score)]\n",
    "            best_cv = cv_key\n",
    "            best_classifier = classifier_key\n",
    "\n",
    "print(f\"{best_classifier} was the best classifier, using {best_cv} cross-validation. Accuracy score: {best_accuracy_score*100}%.\")\n",
    "print(classification_report(best_predict[0],best_predict[1]))"
   ],
   "outputs": [
    {
     "output_type": "stream",
     "name": "stdout",
     "text": [
      "knn was the best classifier, using hyperparameter cross-validation. Accuracy score: 87.64044943820225%.\n",
      "              precision    recall  f1-score   support\n",
      "\n",
      "           0       0.92      0.87      0.90        55\n",
      "           1       0.81      0.88      0.85        34\n",
      "\n",
      "    accuracy                           0.88        89\n",
      "   macro avg       0.87      0.88      0.87        89\n",
      "weighted avg       0.88      0.88      0.88        89\n",
      "\n"
     ]
    }
   ],
   "metadata": {}
  }
 ],
 "metadata": {
  "orig_nbformat": 4,
  "language_info": {
   "name": "python",
   "version": "3.8.8",
   "mimetype": "text/x-python",
   "codemirror_mode": {
    "name": "ipython",
    "version": 3
   },
   "pygments_lexer": "ipython3",
   "nbconvert_exporter": "python",
   "file_extension": ".py"
  },
  "kernelspec": {
   "name": "python3",
   "display_name": "Python 3.8.8 64-bit ('base': conda)"
  },
  "interpreter": {
   "hash": "666beb6dbc4deea3fa90244ba3b36ea850ea92c8d53618380dc7862fb5f41276"
  }
 },
 "nbformat": 4,
 "nbformat_minor": 2
}